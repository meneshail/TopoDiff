{
 "cells": [
  {
   "cell_type": "markdown",
   "metadata": {},
   "source": [
    "This notebook goes through the basic process of encoding backbone structures into the latent space learned by the model. \n",
    "\n",
    "Before running the notebook, please check the below prerequisites:\n",
    "\n",
    "1. The environment has been set up following the instructions in the README file. `TopoDiff` has been installed as a package.\n",
    "\n",
    "2. The model weight and the structure dataset have been downloaded and placed into the correct path.\n",
    "\n",
    "```\n",
    "project(repo)\n",
    "├── data\n",
    "│   ├── dataset\n",
    "│   ├── weights\n",
    "├── notebook\n",
    "│   ├── 0_compute_embedding.ipynb (We are here)\n",
    "│   ├── 1_ ...\n",
    "│   ├── 2_ ...\n",
    "├── TopoDiff\n",
    "```\n",
    "\n",
    "The whole notebook takes ~5 min to run. If you find it time-consuming, we actually have placed a precomputed embedding in the `data/dataset` directory, so you can skip this notebook and directly go to the next one. The following blocks of code will reproduce the precomputed result."
   ]
  },
  {
   "cell_type": "code",
   "execution_count": 1,
   "metadata": {},
   "outputs": [],
   "source": [
    "import os\n",
    "import sys\n",
    "os.environ['CUDA_VISIBLE_DEVICES'] = '1'\n",
    "\n",
    "from multiprocessing import Pool\n",
    "import pickle\n",
    "from tqdm import tqdm"
   ]
  },
  {
   "cell_type": "code",
   "execution_count": 2,
   "metadata": {},
   "outputs": [],
   "source": [
    "import pandas as pd\n",
    "\n",
    "import matplotlib.pyplot as plt\n",
    "import seaborn as sns\n",
    "\n",
    "import torch\n",
    "import numpy as np\n",
    "import openTSNE"
   ]
  },
  {
   "cell_type": "code",
   "execution_count": 3,
   "metadata": {},
   "outputs": [
    {
     "name": "stderr",
     "output_type": "stream",
     "text": [
      "2024-10-02 16:04:55.937 - WARNING - attn_core_inplace_cuda not found. Skipping load of attention_core\n"
     ]
    },
    {
     "name": "stdout",
     "output_type": "stream",
     "text": [
      "attn_core_inplace_cuda not found, will use normal attention implementation\n"
     ]
    }
   ],
   "source": [
    "import TopoDiff\n",
    "\n",
    "# model\n",
    "from TopoDiff.experiment.sampler import Sampler\n",
    "\n",
    "# data\n",
    "from TopoDiff.data.representation_data_modules import StructureRepresentationMinimalDataset, StructureRepresentationCollator\n",
    "\n",
    "# utils\n",
    "from myopenfold.utils.tensor_utils import tensor_tree_map\n",
    "\n",
    "# np\n",
    "from myopenfold.np import protein"
   ]
  },
  {
   "cell_type": "code",
   "execution_count": 4,
   "metadata": {},
   "outputs": [],
   "source": [
    "project_dir = os.path.dirname(os.path.dirname(TopoDiff.__path__[0]))\n",
    "data_dir = os.path.join(project_dir, 'data', 'dataset')"
   ]
  },
  {
   "cell_type": "markdown",
   "metadata": {},
   "source": [
    "# data"
   ]
  },
  {
   "cell_type": "markdown",
   "metadata": {},
   "source": [
    "We showcase embedding computation with this CATH-60 dataset. All structures have been stored in pdb format in `data/dataset/CATH_60`. And the corresponding annotation information is stored in `data/dataset/CATH_60.csv`."
   ]
  },
  {
   "cell_type": "code",
   "execution_count": 6,
   "metadata": {},
   "outputs": [],
   "source": [
    "label_df_path = os.path.join(data_dir, 'CATH_60.csv')\n",
    "data_par_dir = os.path.join(data_dir, 'CATH_60')\n",
    "\n",
    "def load_ca(key):\n",
    "    pdb_path = os.path.join(data_par_dir, key[1:3], key + '.pdb')\n",
    "    pdb_string = open(pdb_path, 'r').read()\n",
    "    pdb = protein.from_pdb_string(pdb_string)\n",
    "    return key, pdb.atom_positions[:, 1][pdb.atom_mask[:, 1].astype(bool)].astype(np.float32)"
   ]
  },
  {
   "cell_type": "code",
   "execution_count": 7,
   "metadata": {},
   "outputs": [
    {
     "data": {
      "text/html": [
       "<div>\n",
       "<style scoped>\n",
       "    .dataframe tbody tr th:only-of-type {\n",
       "        vertical-align: middle;\n",
       "    }\n",
       "\n",
       "    .dataframe tbody tr th {\n",
       "        vertical-align: top;\n",
       "    }\n",
       "\n",
       "    .dataframe thead th {\n",
       "        text-align: right;\n",
       "    }\n",
       "</style>\n",
       "<table border=\"1\" class=\"dataframe\">\n",
       "  <thead>\n",
       "    <tr style=\"text-align: right;\">\n",
       "      <th></th>\n",
       "      <th>key</th>\n",
       "      <th>domain_id</th>\n",
       "      <th>CATH_ID</th>\n",
       "      <th>class_1</th>\n",
       "      <th>class_2</th>\n",
       "      <th>class_3</th>\n",
       "      <th>class_4</th>\n",
       "      <th>length</th>\n",
       "      <th>alpha_ratio</th>\n",
       "      <th>beta_ratio</th>\n",
       "      <th>coil_ratio</th>\n",
       "      <th>gyration_radius</th>\n",
       "    </tr>\n",
       "  </thead>\n",
       "  <tbody>\n",
       "    <tr>\n",
       "      <th>0</th>\n",
       "      <td>139lA00</td>\n",
       "      <td>139lA00</td>\n",
       "      <td>1.10.530.40</td>\n",
       "      <td>Mainly Alpha</td>\n",
       "      <td>Orthogonal Bundle</td>\n",
       "      <td>Lysozyme</td>\n",
       "      <td>NaN</td>\n",
       "      <td>162</td>\n",
       "      <td>0.654321</td>\n",
       "      <td>0.092593</td>\n",
       "      <td>0.253086</td>\n",
       "      <td>1.647574</td>\n",
       "    </tr>\n",
       "    <tr>\n",
       "      <th>1</th>\n",
       "      <td>16pkA01</td>\n",
       "      <td>16pkA01</td>\n",
       "      <td>3.40.50.1260</td>\n",
       "      <td>Alpha Beta</td>\n",
       "      <td>3-Layer(aba) Sandwich</td>\n",
       "      <td>Rossmann fold</td>\n",
       "      <td>Phosphoglycerate kinase, N-terminal domain</td>\n",
       "      <td>188</td>\n",
       "      <td>0.414894</td>\n",
       "      <td>0.170213</td>\n",
       "      <td>0.414894</td>\n",
       "      <td>1.555073</td>\n",
       "    </tr>\n",
       "    <tr>\n",
       "      <th>2</th>\n",
       "      <td>16pkA02</td>\n",
       "      <td>16pkA02</td>\n",
       "      <td>3.40.50.1260</td>\n",
       "      <td>Alpha Beta</td>\n",
       "      <td>3-Layer(aba) Sandwich</td>\n",
       "      <td>Rossmann fold</td>\n",
       "      <td>Phosphoglycerate kinase, N-terminal domain</td>\n",
       "      <td>208</td>\n",
       "      <td>0.437500</td>\n",
       "      <td>0.163462</td>\n",
       "      <td>0.399038</td>\n",
       "      <td>1.611004</td>\n",
       "    </tr>\n",
       "    <tr>\n",
       "      <th>3</th>\n",
       "      <td>1914A00</td>\n",
       "      <td>1914A00</td>\n",
       "      <td>3.30.720.10</td>\n",
       "      <td>Alpha Beta</td>\n",
       "      <td>2-Layer Sandwich</td>\n",
       "      <td>Signal recognition particle alu RNA binding he...</td>\n",
       "      <td>Signal recognition particle alu RNA binding he...</td>\n",
       "      <td>208</td>\n",
       "      <td>0.362573</td>\n",
       "      <td>0.298246</td>\n",
       "      <td>0.339181</td>\n",
       "      <td>1.649240</td>\n",
       "    </tr>\n",
       "    <tr>\n",
       "      <th>4</th>\n",
       "      <td>1a04A01</td>\n",
       "      <td>1a04A01</td>\n",
       "      <td>3.40.50.2300</td>\n",
       "      <td>Alpha Beta</td>\n",
       "      <td>3-Layer(aba) Sandwich</td>\n",
       "      <td>Rossmann fold</td>\n",
       "      <td>NaN</td>\n",
       "      <td>124</td>\n",
       "      <td>0.435484</td>\n",
       "      <td>0.225806</td>\n",
       "      <td>0.338710</td>\n",
       "      <td>1.344929</td>\n",
       "    </tr>\n",
       "  </tbody>\n",
       "</table>\n",
       "</div>"
      ],
      "text/plain": [
       "       key domain_id       CATH_ID       class_1                class_2  \\\n",
       "0  139lA00   139lA00   1.10.530.40  Mainly Alpha      Orthogonal Bundle   \n",
       "1  16pkA01   16pkA01  3.40.50.1260    Alpha Beta  3-Layer(aba) Sandwich   \n",
       "2  16pkA02   16pkA02  3.40.50.1260    Alpha Beta  3-Layer(aba) Sandwich   \n",
       "3  1914A00   1914A00   3.30.720.10    Alpha Beta       2-Layer Sandwich   \n",
       "4  1a04A01   1a04A01  3.40.50.2300    Alpha Beta  3-Layer(aba) Sandwich   \n",
       "\n",
       "                                             class_3  \\\n",
       "0                                           Lysozyme   \n",
       "1                                      Rossmann fold   \n",
       "2                                      Rossmann fold   \n",
       "3  Signal recognition particle alu RNA binding he...   \n",
       "4                                      Rossmann fold   \n",
       "\n",
       "                                             class_4  length  alpha_ratio  \\\n",
       "0                                                NaN     162     0.654321   \n",
       "1         Phosphoglycerate kinase, N-terminal domain     188     0.414894   \n",
       "2         Phosphoglycerate kinase, N-terminal domain     208     0.437500   \n",
       "3  Signal recognition particle alu RNA binding he...     208     0.362573   \n",
       "4                                                NaN     124     0.435484   \n",
       "\n",
       "   beta_ratio  coil_ratio  gyration_radius  \n",
       "0    0.092593    0.253086         1.647574  \n",
       "1    0.170213    0.414894         1.555073  \n",
       "2    0.163462    0.399038         1.611004  \n",
       "3    0.298246    0.339181         1.649240  \n",
       "4    0.225806    0.338710         1.344929  "
      ]
     },
     "execution_count": 7,
     "metadata": {},
     "output_type": "execute_result"
    }
   ],
   "source": [
    "label_df = pd.read_csv(label_df_path)\n",
    "label_df.head()"
   ]
  },
  {
   "cell_type": "code",
   "execution_count": 8,
   "metadata": {},
   "outputs": [
    {
     "name": "stderr",
     "output_type": "stream",
     "text": [
      "100%|██████████████████████████████████████████████████████████████████████████████████████████████████████████████████████████████████████████████████████████████████████████████████████████████████████████████████████████████████████████████████| 30074/30074 [01:06<00:00, 452.70it/s]\n"
     ]
    }
   ],
   "source": [
    "n_workers = 30\n",
    "info_keys = label_df['key'].tolist()\n",
    "info_key_to_idx = {row.key: idx for idx, row in label_df.iterrows()}\n",
    "\n",
    "# process\n",
    "with Pool(n_workers) as p:\n",
    "    results = list(tqdm(p.imap(load_ca, info_keys), total=len(info_keys)))\n",
    "\n",
    "# merge results\n",
    "merged_ca_data = {}\n",
    "for k, ca in results:\n",
    "    merged_ca_data[k] = ca"
   ]
  },
  {
   "cell_type": "markdown",
   "metadata": {},
   "source": [
    "# model"
   ]
  },
  {
   "cell_type": "code",
   "execution_count": 9,
   "metadata": {},
   "outputs": [
    {
     "name": "stderr",
     "output_type": "stream",
     "text": [
      "2024-10-02 16:06:07.110 - WARNING - output_dir is not provided, will return latent and structure result in memory\n",
      "2024-10-02 16:06:07.112 - INFO - Using single-GPU\n"
     ]
    }
   ],
   "source": [
    "sampler = Sampler(\n",
    "    model_version='v1_1_2',\n",
    ")"
   ]
  },
  {
   "cell_type": "code",
   "execution_count": 10,
   "metadata": {},
   "outputs": [],
   "source": [
    "device = sampler.model_diffusion.device\n",
    "config = sampler.config_diffusion\n",
    "model = sampler.model_diffusion"
   ]
  },
  {
   "cell_type": "code",
   "execution_count": 11,
   "metadata": {},
   "outputs": [],
   "source": [
    "dataset = StructureRepresentationMinimalDataset(\n",
    "    data_info = label_df,\n",
    "    data_dict = merged_ca_data,\n",
    "    config = config.Data.common,\n",
    "    extra_config = {'encoder_no_noise': True},\n",
    ")\n",
    "collator = StructureRepresentationCollator(pad_in_collator=True)"
   ]
  },
  {
   "cell_type": "code",
   "execution_count": 12,
   "metadata": {},
   "outputs": [],
   "source": [
    "dataloader = torch.utils.data.DataLoader(\n",
    "    dataset,\n",
    "    batch_size=16,\n",
    "    shuffle=False,\n",
    "    collate_fn=collator,\n",
    "    num_workers=8,\n",
    "    drop_last=False,\n",
    ")"
   ]
  },
  {
   "cell_type": "code",
   "execution_count": 13,
   "metadata": {},
   "outputs": [
    {
     "name": "stderr",
     "output_type": "stream",
     "text": [
      "  0%|                                                                                                                                                                                                                                                                | 0/1880 [00:00<?, ?it/s]"
     ]
    },
    {
     "name": "stderr",
     "output_type": "stream",
     "text": [
      "100%|█████████████████████████████████████████████████████████████████████████████████████████████████████████████████████████████████████████████████████████████████████████████████████████████████████████████████████████████████████████████████████| 1880/1880 [01:14<00:00, 25.32it/s]\n"
     ]
    }
   ],
   "source": [
    "result_dict_list = []\n",
    "for i, batch in enumerate(tqdm(dataloader)):\n",
    "    with torch.no_grad():\n",
    "        batch = {k: v.to(device) for k, v in batch.items() if isinstance(v, torch.Tensor)}\n",
    "        batch = tensor_tree_map(lambda x: x.to(device), batch)\n",
    "        result = model.encode_topology(batch)\n",
    "        result['length'] = batch['length']\n",
    "        result['sample_idx'] = batch['sample_idx']\n",
    "        result = tensor_tree_map(lambda x: x.cpu(), result)\n",
    "        result_dict_list.append(result)\n",
    "\n",
    "result_dict = {}\n",
    "for key in result_dict_list[0].keys():\n",
    "    result_dict[key] = torch.cat([x[key] for x in result_dict_list], dim=0).cpu().numpy()\n",
    "result_dict['key'] = dataset.keys"
   ]
  },
  {
   "cell_type": "markdown",
   "metadata": {},
   "source": [
    "This is the 32-dim latent codes of each structure. For better visualization, we will use t-SNE algorithm to reduce the dimension to 2."
   ]
  },
  {
   "cell_type": "code",
   "execution_count": 14,
   "metadata": {},
   "outputs": [
    {
     "name": "stdout",
     "output_type": "stream",
     "text": [
      "--------------------------------------------------------------------------------\n",
      "TSNE(early_exaggeration=12, n_iter=250, n_jobs=30, perplexity=50,\n",
      "     random_state=477778, verbose=True)\n",
      "--------------------------------------------------------------------------------\n",
      "===> Finding 150 nearest neighbors using Annoy approximate search using euclidean distance...\n",
      "   --> Time elapsed: 7.17 seconds\n",
      "===> Calculating affinity matrix...\n"
     ]
    },
    {
     "name": "stderr",
     "output_type": "stream",
     "text": [
      "2024-10-02 16:08:02.900 - INFO - Precomputed initialization provided. Ignoring initalization-related parameters.\n"
     ]
    },
    {
     "name": "stdout",
     "output_type": "stream",
     "text": [
      "   --> Time elapsed: 3.83 seconds\n",
      "===> Calculating PCA-based initialization...\n"
     ]
    },
    {
     "name": "stderr",
     "output_type": "stream",
     "text": [
      "2024-10-02 16:08:03.321 - INFO - Automatically determined negative gradient method `fft`\n"
     ]
    },
    {
     "name": "stdout",
     "output_type": "stream",
     "text": [
      "   --> Time elapsed: 0.42 seconds\n",
      "===> Running optimization with exaggeration=12.00, lr=2506.17 for 250 iterations...\n",
      "Iteration   50, KL divergence 3.8384, 50 iterations in 3.3969 sec\n",
      "Iteration  100, KL divergence 3.7359, 50 iterations in 3.3955 sec\n",
      "Iteration  150, KL divergence 3.6273, 50 iterations in 3.6220 sec\n",
      "Iteration  200, KL divergence 3.5841, 50 iterations in 3.4820 sec\n"
     ]
    },
    {
     "name": "stderr",
     "output_type": "stream",
     "text": [
      "2024-10-02 16:08:20.657 - INFO - Automatically determined negative gradient method `fft`\n"
     ]
    },
    {
     "name": "stdout",
     "output_type": "stream",
     "text": [
      "Iteration  250, KL divergence 3.5641, 50 iterations in 3.3632 sec\n",
      "   --> Time elapsed: 17.26 seconds\n",
      "===> Running optimization with exaggeration=1.00, lr=30074.00 for 250 iterations...\n",
      "Iteration   50, KL divergence 1.7766, 50 iterations in 3.9921 sec\n",
      "Iteration  100, KL divergence 1.5181, 50 iterations in 8.1890 sec\n",
      "Iteration  150, KL divergence 1.4025, 50 iterations in 11.8351 sec\n",
      "Iteration  200, KL divergence 1.3355, 50 iterations in 14.4091 sec\n",
      "Iteration  250, KL divergence 1.2934, 50 iterations in 16.8835 sec\n",
      "   --> Time elapsed: 55.31 seconds\n"
     ]
    }
   ],
   "source": [
    "tsne = openTSNE.TSNE(\n",
    "    perplexity=50,\n",
    "    metric=\"euclidean\",\n",
    "    n_jobs=30,\n",
    "    random_state=477778,\n",
    "    verbose=True,\n",
    "    n_iter = 250,\n",
    "    initialization = 'pca',\n",
    ")\n",
    "embed_2d = tsne.fit(result_dict['latent_mu'])"
   ]
  },
  {
   "cell_type": "code",
   "execution_count": 15,
   "metadata": {},
   "outputs": [],
   "source": [
    "save_path = os.path.join(data_dir, 'CATH_60_embedding_reproduced.pkl')\n",
    "result_dict['embed_2d'] = embed_2d\n",
    "with open(save_path, 'wb') as f:\n",
    "    pickle.dump(result_dict, f)"
   ]
  },
  {
   "cell_type": "markdown",
   "metadata": {},
   "source": [
    "Now we have computed the embedding and transformed it into 2D t-SNE space. Let's go to the next notebook and visualize it along with human (curators of CATH database) annotations as well as many intrinsic structural descriptors !"
   ]
  },
  {
   "cell_type": "code",
   "execution_count": null,
   "metadata": {},
   "outputs": [],
   "source": []
  }
 ],
 "metadata": {
  "kernelspec": {
   "display_name": "Python [conda env:topodiff_241001_cu118]",
   "language": "python",
   "name": "conda-env-topodiff_241001_cu118-py"
  },
  "language_info": {
   "codemirror_mode": {
    "name": "ipython",
    "version": 3
   },
   "file_extension": ".py",
   "mimetype": "text/x-python",
   "name": "python",
   "nbconvert_exporter": "python",
   "pygments_lexer": "ipython3",
   "version": "3.8.19"
  }
 },
 "nbformat": 4,
 "nbformat_minor": 2
}
